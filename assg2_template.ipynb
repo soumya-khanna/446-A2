{
 "cells": [
  {
   "cell_type": "code",
   "execution_count": 15,
   "id": "1b6ed14b",
   "metadata": {},
   "outputs": [],
   "source": [
    "import pandas as pd\n",
    "import numpy as np\n",
    "\n",
    "from ISLP import load_data\n",
    "from sklearn.model_selection import train_test_split\n",
    "from sklearn.preprocessing import PolynomialFeatures\n",
    "from sklearn.model_selection import cross_validate\n",
    "from sklearn.linear_model import LinearRegression, Lasso\n",
    "\n",
    "from mlxtend.evaluate import bias_variance_decomp\n",
    "\n",
    "import warnings\n",
    "warnings.filterwarnings('ignore')"
   ]
  },
  {
   "cell_type": "markdown",
   "id": "bd65fb8f",
   "metadata": {},
   "source": [
    "# Q1 - Bias-Variance Tradeoff"
   ]
  },
  {
   "cell_type": "markdown",
   "id": "c4a9c456",
   "metadata": {},
   "source": [
    "## Q1.1"
   ]
  },
  {
   "cell_type": "code",
   "execution_count": null,
   "id": "7fcd38fe",
   "metadata": {},
   "outputs": [],
   "source": [
    "auto = load_data('Auto')\n",
    "y    = auto['mpg']\n",
    "X    = auto.drop(['mpg','name'], axis=1)\n",
    "X_train, X_test, y_train, y_test = train_test_split(X, y, test_size=0.2, shuffle=True, random_state=156)"
   ]
  },
  {
   "cell_type": "markdown",
   "id": "c9011d7f",
   "metadata": {},
   "source": [
    "## Q1.2"
   ]
  },
  {
   "cell_type": "code",
   "execution_count": null,
   "id": "0d3e087d",
   "metadata": {},
   "outputs": [],
   "source": [
    "poly         = PolynomialFeatures (degree=i, include_bias=False)\n",
    "\n",
    "X_train_poly = ... # you can check tutorials for the correct syntax\n",
    "X_test_poly  = ...\n",
    "\n",
    "model = LinearRegression()\n",
    "mse, bias,var = bias_variance_decomp(model,\n",
    "                                     X_train_poly, y_train.to_numpy(), X_test_poly, y_test.to_numpy(), \n",
    "                                     loss='mse', num_rounds=200, random_seed=156)\n"
   ]
  },
  {
   "cell_type": "code",
   "execution_count": null,
   "id": "dccddd8e",
   "metadata": {},
   "outputs": [],
   "source": [
    "MSEs   = []\n",
    "Biases = []\n",
    "Vars   = []\n",
    "\n",
    "# Fit model and collect performance iteratively\n",
    "for i in range(1,13):\n",
    "    poly = PolynomialFeatures (degree=i, include_bias=False)\n",
    "\n",
    "    X_train_poly = poly.fit_transform(X_train['horsepower'].to_numpy().reshape(-1, 1))\n",
    "    X_test_poly  = poly.fit_transform(X_test['horsepower'].to_numpy().reshape(-1, 1))\n",
    "\n",
    "    model = LinearRegression()\n",
    "    mse, bias, var = bias_variance_decomp(model,\n",
    "                                     X_train_poly, y_train.to_numpy(), X_test_poly, y_test.to_numpy(), \n",
    "                                     loss='mse', num_rounds=200, random_seed=156)\n",
    "\n",
    "    # Calculate performance\n",
    "    MSEs.append(mse)\n",
    "    Biases.append(bias)\n",
    "    Vars.append(var)\n",
    "    print('MSE: %s, Bias: %s, Var: %s ' %(mse.round(2),bias.round(2),var.round(2)))"
   ]
  },
  {
   "cell_type": "code",
   "execution_count": null,
   "id": "c301bb0a",
   "metadata": {},
   "outputs": [],
   "source": [
    "\n",
    "..."
   ]
  },
  {
   "cell_type": "code",
   "execution_count": null,
   "id": "fbd451a0",
   "metadata": {},
   "outputs": [],
   "source": [
    "# Plot\n",
    "res.plot()"
   ]
  },
  {
   "cell_type": "markdown",
   "id": "608b1c11",
   "metadata": {},
   "source": [
    "## Q1.3"
   ]
  },
  {
   "cell_type": "code",
   "execution_count": null,
   "id": "3c9335f7",
   "metadata": {},
   "outputs": [],
   "source": [
    "# Make the results a data frame\n",
    "results_data = {'MSE': MSEs, 'Bais': Biases, 'Var': Vars}\n",
    "res = pd.DataFrame(results_data)\n",
    "\n",
    "res.plot() \n"
   ]
  },
  {
   "cell_type": "code",
   "execution_count": null,
   "id": "e1baf12a",
   "metadata": {},
   "outputs": [],
   "source": [
    "\"\"\"\n",
    "Linear Regression: As model complexity increases the bias and variance also increases. \n",
    "\"\"\""
   ]
  },
  {
   "cell_type": "code",
   "execution_count": 18,
   "id": "417f0409",
   "metadata": {},
   "outputs": [
    {
     "name": "stdout",
     "output_type": "stream",
     "text": [
      "MSE: 26.48, Bias: 26.28, Var: 0.19 \n",
      "MSE: 19.09, Bias: 18.87, Var: 0.21 \n",
      "MSE: 19.13, Bias: 18.88, Var: 0.25 \n",
      "MSE: 19.13, Bias: 18.83, Var: 0.3 \n",
      "MSE: 19.13, Bias: 18.83, Var: 0.3 \n",
      "MSE: 19.12, Bias: 18.82, Var: 0.3 \n",
      "MSE: 19.13, Bias: 18.82, Var: 0.31 \n",
      "MSE: 19.14, Bias: 18.81, Var: 0.33 \n",
      "MSE: 19.14, Bias: 18.8, Var: 0.34 \n",
      "MSE: 19.13, Bias: 18.79, Var: 0.34 \n",
      "MSE: 19.11, Bias: 18.77, Var: 0.34 \n",
      "MSE: 19.08, Bias: 18.75, Var: 0.33 \n"
     ]
    },
    {
     "data": {
      "text/plain": [
       "<Axes: >"
      ]
     },
     "execution_count": 18,
     "metadata": {},
     "output_type": "execute_result"
    },
    {
     "data": {
      "image/png": "[encoded data removed]",
      "text/plain": [
       "<Figure size 640x480 with 1 Axes>"
      ]
     },
     "metadata": {},
     "output_type": "display_data"
    }
   ],
   "source": [
    "...\n",
    "\n",
    "MSEs1   = []\n",
    "Biases1 = []\n",
    "Vars1   = []\n",
    "\n",
    "# Fit model and collect performance iteratively\n",
    "for i in range(1,13):\n",
    "    poly = PolynomialFeatures (degree=i, include_bias=False)\n",
    "\n",
    "    X_train_poly = poly.fit_transform(X_train['horsepower'].to_numpy().reshape(-1, 1))\n",
    "    X_test_poly  = poly.fit_transform(X_test['horsepower'].to_numpy().reshape(-1, 1))\n",
    "\n",
    "    model = Lasso(alpha=1)\n",
    "    mse1, bias1, var1 = bias_variance_decomp(model,\n",
    "                                     X_train_poly, y_train.to_numpy(), X_test_poly, y_test.to_numpy(), \n",
    "                                     loss='mse', num_rounds=200, random_seed=156)\n",
    "\n",
    "    # Calculate performance\n",
    "    MSEs1.append(mse1)\n",
    "    Biases1.append(bias1)\n",
    "    Vars1.append(var1)\n",
    "    print('MSE: %s, Bias: %s, Var: %s ' %(mse1.round(2),bias1.round(2),var1.round(2)))\n",
    "\n",
    "results_data1 = {'MSE': MSEs1, 'Bais': Biases1, 'Var': Vars1}\n",
    "res1 = pd.DataFrame(results_data1)\n",
    "\n",
    "res1.plot() \n",
    "\n",
    "\n",
    "\"\"\"\n",
    "Lasso: The variance stays constant and bias decrease for the first couple degrees and then converges to a certain value.\n",
    "\"\"\""
   ]
  },
  {
   "cell_type": "markdown",
   "id": "af0e1989",
   "metadata": {},
   "source": [
    "# Q2"
   ]
  },
  {
   "cell_type": "markdown",
   "id": "70424771",
   "metadata": {},
   "source": [
    "## Q2.1"
   ]
  },
  {
   "cell_type": "code",
   "execution_count": null,
   "id": "5877801b",
   "metadata": {},
   "outputs": [],
   "source": [
    "\n",
    "model      = LinearRegression()\n",
    "cv_results = ...\n",
    "mse_avg    = ...\n",
    "print('MSE (5-Fold CV): ', mse_avg)\n"
   ]
  },
  {
   "cell_type": "markdown",
   "id": "18f9bfcb",
   "metadata": {},
   "source": [
    "## Q2.2"
   ]
  },
  {
   "cell_type": "code",
   "execution_count": null,
   "id": "92fbcaa8",
   "metadata": {},
   "outputs": [],
   "source": [
    "MSEs = []\n",
    "# Fit model and collect performance iteratively\n",
    "for a in np.arange(0,1,.01):\n",
    "    # Fit a Lasso Regression model\n",
    "    model = ...\n",
    "    cv_results = ...\n",
    "\n",
    "    # Calculate performance\n",
    "    mse_avg = ...\n",
    "    MSEs.append(...)\n",
    "    "
   ]
  },
  {
   "cell_type": "code",
   "execution_count": null,
   "id": "3774d863",
   "metadata": {},
   "outputs": [],
   "source": [
    "MSEs = pd.DataFrame(MSEs)\n",
    "\n",
    "MSEs.plot()"
   ]
  },
  {
   "cell_type": "code",
   "execution_count": null,
   "id": "ee0341eb",
   "metadata": {},
   "outputs": [],
   "source": [
    "print(MSEs.min())"
   ]
  },
  {
   "cell_type": "markdown",
   "id": "e2bcb00d",
   "metadata": {},
   "source": [
    "# Q3"
   ]
  },
  {
   "cell_type": "markdown",
   "id": "124168bd",
   "metadata": {},
   "source": [
    "## Q3.1"
   ]
  },
  {
   "cell_type": "code",
   "execution_count": null,
   "id": "8cb96ecf",
   "metadata": {},
   "outputs": [],
   "source": [
    "np.random.seed(156)"
   ]
  },
  {
   "cell_type": "code",
   "execution_count": null,
   "id": "65ab449d",
   "metadata": {},
   "outputs": [],
   "source": [
    "all_inds   = np.arange(392)\n",
    "train_inds = ...\n",
    "train_uniq = ...\n",
    "test_uniq  = ..."
   ]
  },
  {
   "cell_type": "code",
   "execution_count": null,
   "id": "ce062e72",
   "metadata": {},
   "outputs": [],
   "source": [
    "print(len(train_uniq),len(test_uniq))"
   ]
  },
  {
   "cell_type": "markdown",
   "id": "2289eb09",
   "metadata": {},
   "source": [
    "## Q3.2"
   ]
  },
  {
   "cell_type": "code",
   "execution_count": null,
   "id": "aecae8f1",
   "metadata": {},
   "outputs": [],
   "source": [
    "np.random.seed(156)\n",
    "seeds = np.random.randint(0,10000,1000)\n",
    "\n",
    "train_lens = []\n",
    "test_lens  = []\n",
    "all_inds   = np.arange(392)\n",
    "for i in range(1000):\n",
    "    np.random.seed(seeds[i])\n",
    "    train_inds = ...\n",
    "    train_uniq = ...\n",
    "    test_uniq  = ...\n",
    "    train_lens.append(len(train_uniq))\n",
    "    test_lens.append(len(test_uniq))"
   ]
  },
  {
   "cell_type": "code",
   "execution_count": null,
   "id": "3172da00",
   "metadata": {},
   "outputs": [],
   "source": [
    "# Probability of jth item being in the train set\n",
    "..."
   ]
  },
  {
   "cell_type": "code",
   "execution_count": null,
   "id": "5ecd9515",
   "metadata": {},
   "outputs": [],
   "source": [
    "# Probability of jth item being in the test set\n",
    "..."
   ]
  },
  {
   "cell_type": "markdown",
   "id": "00734b1d",
   "metadata": {},
   "source": [
    "# Q4"
   ]
  },
  {
   "cell_type": "code",
   "execution_count": null,
   "id": "cabd2ba5",
   "metadata": {},
   "outputs": [],
   "source": [
    "import numpy as np\n",
    "import pandas as pd\n",
    "from sklearn.datasets import make_blobs\n",
    "from sklearn.model_selection import train_test_split\n",
    "from sklearn.linear_model import LogisticRegression\n",
    "from sklearn.metrics import accuracy_score\n",
    "import matplotlib.pyplot as plt"
   ]
  },
  {
   "cell_type": "code",
   "execution_count": null,
   "id": "1cc18f94",
   "metadata": {},
   "outputs": [],
   "source": [
    "np.random.seed(156)\n",
    "X, y = make_blobs(n_samples=300, centers=3, n_features=2, random_state=32)\n",
    "\n",
    "# Mapping the numerical labels to colors\n",
    "color_map = {0: 'orange', 1: 'green', 2: 'blue'}\n",
    "colors = [color_map[label] for label in y]\n",
    "\n",
    "# Creating a DataFrame\n",
    "df = pd.DataFrame(X, columns=['feature1', 'feature2'])\n",
    "df['color'] = colors\n",
    "\n",
    "# Now df is your dataset with 'feature1', 'feature2', and 'color'\n"
   ]
  },
  {
   "cell_type": "code",
   "execution_count": null,
   "id": "83ca9160",
   "metadata": {},
   "outputs": [],
   "source": [
    "# Setting random seed for reproducibility\n",
    "\n",
    "def generate_clusters_color_them():\n",
    "    # Generating synthetic data with 3 clusters\n",
    "    X, y = make_blobs(n_samples=300, centers=3, n_features=2, random_state=32)\n",
    "\n",
    "    # Mapping the numerical labels to colors\n",
    "    color_map = {0: 'orange', 1: 'green', 2: 'blue'}\n",
    "    colors = [color_map[label] for label in y]\n",
    "\n",
    "    # Creating a DataFrame\n",
    "    df = pd.DataFrame(X, columns=['feature1', 'feature2'])\n",
    "    df['color'] = colors\n",
    "\n",
    "    # Visualizing the data\n",
    "    plt.scatter(df['feature1'], df['feature2'], c=df['color'])\n",
    "    plt.xlabel('Feature 1')\n",
    "    plt.ylabel('Feature 2')\n",
    "    plt.title('Dataset with Three Clusters')\n",
    "    plt.show()\n",
    "\n"
   ]
  },
  {
   "cell_type": "code",
   "execution_count": null,
   "id": "db22e7ff",
   "metadata": {},
   "outputs": [],
   "source": [
    "# Function to plot decision boundaries\n",
    "def plot_decision_boundary(X, y, classifier, title):\n",
    "    x_min, x_max = X[:, 0].min() - 1, X[:, 0].max() + 1\n",
    "    y_min, y_max = X[:, 1].min() - 1, X[:, 1].max() + 1\n",
    "    xx, yy = np.meshgrid(np.arange(x_min, x_max, 0.1),\n",
    "                         np.arange(y_min, y_max, 0.1))\n",
    "    Z = classifier.predict(np.c_[xx.ravel(), yy.ravel()])\n",
    "    Z = Z.reshape(xx.shape)\n",
    "\n",
    "    plt.contourf(xx, yy, Z, alpha=0.4)\n",
    "    plt.scatter(X[:, 0], X[:, 1], c=y, s=20, edgecolor='k')\n",
    "    plt.title(title)\n",
    "    plt.xlabel('Feature 1')\n",
    "    plt.ylabel('Feature 2')\n",
    "    plt.show()\n"
   ]
  },
  {
   "cell_type": "code",
   "execution_count": null,
   "id": "dd75924b",
   "metadata": {},
   "outputs": [],
   "source": [
    "# The input data and the 3 clusters\n",
    "generate_clusters_color_them()"
   ]
  },
  {
   "cell_type": "markdown",
   "id": "e5a3b7ad",
   "metadata": {},
   "source": [
    "### Data Analysis and Preparation:\n",
    "\n",
    "- Prepare the dataset for binary classification tasks: blue vs not blue, green vs not green and orange vs not orange. \n",
    "   - Add 3 columns to your dataset, `is_green`, `is_blue`, `is_orange`\n",
    "   - You can use ordinal mapping; map to 1 if it is the given colour and 0 if not."
   ]
  },
  {
   "cell_type": "code",
   "execution_count": null,
   "id": "5693e3d7",
   "metadata": {},
   "outputs": [],
   "source": [
    "df['is_orange'] = ...\n",
    "df['is_blue']   = ...\n",
    "df['is_green']  = ..."
   ]
  },
  {
   "cell_type": "code",
   "execution_count": null,
   "id": "5dbdeb86",
   "metadata": {},
   "outputs": [],
   "source": [
    "# Train Log Reg for Orange\n",
    "# Splitting the data for 'orange' classification\n",
    "X_train_orange, X_test_orange, y_train_orange, y_test_orange = ...\n",
    "\n",
    "# Train Logistic Regression for 'orange' classification\n",
    "orange_classifier = ...\n",
    "...\n",
    "\n",
    "# Model Accuracy\n",
    "preds = ...\n",
    "print('Orange Classifier Accuracy: ', accuracy_score(preds,y_test_orange))"
   ]
  },
  {
   "cell_type": "code",
   "execution_count": null,
   "id": "2773ca96",
   "metadata": {},
   "outputs": [],
   "source": [
    "# Plotting decision boundaries for 'orange' classifier\n",
    "plot_decision_boundary(X_test_orange.values, y_test_orange.values, \n",
    "                       orange_classifier, \"Decision Boundary for 'Orange' Classifier\",)"
   ]
  },
  {
   "cell_type": "code",
   "execution_count": null,
   "id": "6100c1e6",
   "metadata": {},
   "outputs": [],
   "source": [
    "# Train Log Reg for Green\n"
   ]
  },
  {
   "cell_type": "code",
   "execution_count": null,
   "id": "6dc70d6e",
   "metadata": {},
   "outputs": [],
   "source": [
    "# Plotting decision boundaries for 'green' classifier\n"
   ]
  },
  {
   "cell_type": "code",
   "execution_count": null,
   "id": "4f47a7ed",
   "metadata": {},
   "outputs": [],
   "source": [
    "# Train Log Reg for Blue\n"
   ]
  },
  {
   "cell_type": "code",
   "execution_count": null,
   "id": "3cb2276e",
   "metadata": {},
   "outputs": [],
   "source": [
    "# Plotting decision boundaries for 'blue' classifier\n"
   ]
  },
  {
   "cell_type": "markdown",
   "id": "2842f35a",
   "metadata": {},
   "source": [
    "### Reflection and Analysis:\n",
    "- Discuss the model's behaviour when classifying `blue` points and compare with other models for other colours.\n",
    "- Discuss any patterns of misclassification and possible reasons for these."
   ]
  },
  {
   "cell_type": "markdown",
   "id": "bfbe1f99",
   "metadata": {},
   "source": [
    "..."
   ]
  },
  {
   "cell_type": "code",
   "execution_count": null,
   "id": "70375fb5",
   "metadata": {},
   "outputs": [],
   "source": []
  }
 ],
 "metadata": {
  "kernelspec": {
   "display_name": "Python 3 (ipykernel)",
   "language": "python",
   "name": "python3"
  },
  "language_info": {
   "codemirror_mode": {
    "name": "ipython",
    "version": 3
   },
   "file_extension": ".py",
   "mimetype": "text/x-python",
   "name": "python",
   "nbconvert_exporter": "python",
   "pygments_lexer": "ipython3",
   "version": "3.11.5"
  }
 },
 "nbformat": 4,
 "nbformat_minor": 5
}
